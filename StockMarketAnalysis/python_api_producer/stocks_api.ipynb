{
 "cells": [
  {
   "cell_type": "code",
   "execution_count": null,
   "id": "0d32dcb0",
   "metadata": {},
   "outputs": [],
   "source": [
    "import kafka\n",
    "import json\n",
    "import requests\n",
    "import os\n",
    "from dotenv import load_dotenv\n",
    "from sqlalchemy import create_engine\n",
    "import pandas as pd\n",
    "\n"
   ]
  },
  {
   "cell_type": "code",
   "execution_count": null,
   "id": "91ff4069",
   "metadata": {},
   "outputs": [],
   "source": [
    "os.chdir(r\"E:\\LocalProjects\\GitRepos\\End2EndDataEngineeringPipeline\")\n",
    "os.getcwd()"
   ]
  },
  {
   "cell_type": "code",
   "execution_count": null,
   "id": "961f63a7",
   "metadata": {},
   "outputs": [],
   "source": [
    "load_dotenv(dotenv_path=\"StockMarketAnalysis\\python_api_producer\\.env\")"
   ]
  },
  {
   "cell_type": "code",
   "execution_count": null,
   "id": "453e3eda",
   "metadata": {},
   "outputs": [],
   "source": [
    "username = os.getenv('DB_USER')\n",
    "password = os.getenv('DB_PASS')\n",
    "database = os.getenv('DB_NAME')\n",
    "host = os.getenv('DB_HOST')\n",
    "post = os.getenv('DB_PORT')\n",
    "print(username)"
   ]
  },
  {
   "cell_type": "code",
   "execution_count": null,
   "id": "25643bd0",
   "metadata": {},
   "outputs": [],
   "source": [
    "path = r\"C:\\Users\\uttka\\Downloads\\ind_nifty500list.csv\"\n",
    "nifty500 = pd.read_csv(path)\n",
    "display(nifty500.head())"
   ]
  },
  {
   "cell_type": "code",
   "execution_count": null,
   "id": "5ec15d3d",
   "metadata": {},
   "outputs": [],
   "source": [
    "nifty500['created_at'] = pd.Timestamp.now()\n",
    "display(nifty500)"
   ]
  },
  {
   "cell_type": "markdown",
   "id": "ef662de1",
   "metadata": {},
   "source": [
    "#### Insert Nifty 500 Data"
   ]
  },
  {
   "cell_type": "code",
   "execution_count": null,
   "id": "f5948d6c",
   "metadata": {},
   "outputs": [],
   "source": [
    "# con = create_engine(f'postgresql://{username}:{password}@{host}:{post}/{database}')\n",
    "# with con.begin() as conn:\n",
    "#     nifty500.to_sql('stocks_data', con=con, if_exists='replace', index=False)"
   ]
  },
  {
   "cell_type": "code",
   "execution_count": null,
   "id": "f41c480c",
   "metadata": {},
   "outputs": [],
   "source": [
    "symbol = 'ADANIENT'\n",
    "interval = '1' # for minutes 1,5,15 for day or month or week put 1D\n",
    "start_time = '1354410000'\n",
    "end_time = '1758821896'\n",
    "count = 10000"
   ]
  },
  {
   "cell_type": "code",
   "execution_count": null,
   "id": "b414671e",
   "metadata": {},
   "outputs": [],
   "source": [
    "\n",
    "base_url = \"https://priceapi.moneycontrol.com/techCharts/indianMarket/stock/history?\"\n",
    "params = f\"symbol={symbol}&resolution={interval}&from={start_time}&to={end_time}&countback={count}&currencyCode=INR\"\n",
    "url = base_url+params\n",
    "print(url)"
   ]
  },
  {
   "cell_type": "code",
   "execution_count": null,
   "id": "689f29e9",
   "metadata": {},
   "outputs": [],
   "source": [
    "headers = {\n",
    "    'User-Agent': 'Mozilla/5.0 (Windows NT 10.0; Win64; x64) AppleWebKit/537.36 (KHTML, like Gecko) Chrome/90.0.4430.93 Safari/537.36',\n",
    "    'Accept-Language': 'en-US,en;q=0.9',\n",
    "    'Accept-Encoding': 'gzip, deflate, br',\n",
    "    'origin': 'https://www.moneycontrol.com'\n",
    "}\n",
    "\n",
    "response = requests.get(url, headers=headers)\n",
    "data = response.json()\n"
   ]
  },
  {
   "cell_type": "code",
   "execution_count": null,
   "id": "29c042db",
   "metadata": {},
   "outputs": [],
   "source": [
    "df = pd.DataFrame({\n",
    "    'symbol': symbol,\n",
    "    'metric_time': data['t'],\n",
    "    'open_price': data['o'],\n",
    "    'close_price': data['c'],\n",
    "    'high': data['h'],\n",
    "    'low': data['l'],\n",
    "    'volume': data['v'],\n",
    "    'created_at': pd.Timestamp.now()\n",
    "})\n",
    "df['metric_time'] = pd.to_datetime(df['metric_time'], unit='s')\n",
    "display(df.sort_values(\"metric_time\"))"
   ]
  },
  {
   "cell_type": "code",
   "execution_count": null,
   "id": "65dd1266",
   "metadata": {},
   "outputs": [],
   "source": [
    "engine = create_engine(f'postgresql://{username}:{password}@{host}:{post}/{database}')\n",
    "with engine.begin() as conn:\n",
    "    df.to_sql('stocks_1m_interval', con=conn, if_exists='replace', index=False)"
   ]
  },
  {
   "cell_type": "code",
   "execution_count": null,
   "id": "629f7e9a",
   "metadata": {},
   "outputs": [],
   "source": [
    "def pd_timestamp_serializer(ts):\n",
    "    if isinstance(ts, pd.Timestamp):\n",
    "        return ts.isoformat()\n",
    "    raise TypeError(f\"Type {type(ts)} is not serializable\")"
   ]
  },
  {
   "cell_type": "code",
   "execution_count": null,
   "id": "3e9c35e0",
   "metadata": {},
   "outputs": [],
   "source": [
    "kafkaproducer = kafka.KafkaProducer(\n",
    "    bootstrap_servers=['192.168.1.15:9092'],\n",
    "    value_serializer=lambda x: json.dumps(x, default=pd_timestamp_serializer).encode('utf-8'),\n",
    "    key_serializer=lambda x: x.encode('utf-8')\n",
    ")\n"
   ]
  },
  {
   "cell_type": "code",
   "execution_count": null,
   "id": "df452a90",
   "metadata": {},
   "outputs": [],
   "source": [
    "for i,row in df.iterrows():\n",
    "    print(row.to_dict())\n",
    "    kafkaproducer.send(topic='test-data', key=row['symbol'], value=row.to_dict())\n",
    "    \n",
    "kafkaproducer.flush()\n",
    "kafkaproducer.close()"
   ]
  }
 ],
 "metadata": {
  "kernelspec": {
   "display_name": "Python 3",
   "language": "python",
   "name": "python3"
  },
  "language_info": {
   "codemirror_mode": {
    "name": "ipython",
    "version": 3
   },
   "file_extension": ".py",
   "mimetype": "text/x-python",
   "name": "python",
   "nbconvert_exporter": "python",
   "pygments_lexer": "ipython3",
   "version": "3.8.8"
  }
 },
 "nbformat": 4,
 "nbformat_minor": 5
}
