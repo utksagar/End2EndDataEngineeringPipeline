{
 "cells": [
  {
   "cell_type": "code",
   "execution_count": 7,
   "id": "e2242332",
   "metadata": {},
   "outputs": [],
   "source": [
    "import psycopg2"
   ]
  },
  {
   "cell_type": "code",
   "execution_count": 9,
   "id": "04adfe07",
   "metadata": {},
   "outputs": [
    {
     "name": "stdout",
     "output_type": "stream",
     "text": [
      "Database Creatd successfully\n"
     ]
    }
   ],
   "source": [
    "# create Database by using scripts\n",
    "\n",
    "conn = psycopg2.connect(\n",
    "    dbname=\"postgres\",\n",
    "    user='postgres',\n",
    "    password='admin',\n",
    "    host='localhost',\n",
    "    port=5432\n",
    ")\n",
    "conn.autocommit = True\n",
    "cursor = conn.cursor()\n",
    "\n",
    "with open('E:\\LocalProjects\\GitRepos\\End2EndDataEngineeringPipeline\\StockMarketAnalysis\\config\\postgres\\createDb.sql', 'r') as f:\n",
    "    cursor.execute(f.read())\n",
    "cursor.close()\n",
    "conn.close()\n",
    "print(\"Database Creatd successfully\")"
   ]
  },
  {
   "cell_type": "code",
   "execution_count": null,
   "id": "66aa747a",
   "metadata": {},
   "outputs": [],
   "source": [
    "# cerate tables required for project"
   ]
  }
 ],
 "metadata": {
  "kernelspec": {
   "display_name": "Python 3",
   "language": "python",
   "name": "python3"
  }
 },
 "nbformat": 4,
 "nbformat_minor": 5
}
