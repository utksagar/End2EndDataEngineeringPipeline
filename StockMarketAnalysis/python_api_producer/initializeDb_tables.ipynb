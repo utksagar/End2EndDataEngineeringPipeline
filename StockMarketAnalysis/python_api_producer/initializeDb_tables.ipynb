{
 "cells": [
  {
   "cell_type": "code",
   "execution_count": 6,
   "id": "e211c56c",
   "metadata": {},
   "outputs": [
    {
     "name": "stdout",
     "output_type": "stream",
     "text": [
      "Collecting psycopg2-binary==2.9.9\n",
      "  Downloading psycopg2_binary-2.9.9-cp38-cp38-win_amd64.whl (1.2 MB)\n",
      "     ---------------------------------------- 1.2/1.2 MB 1.4 MB/s eta 0:00:00\n",
      "Installing collected packages: psycopg2-binary\n",
      "Successfully installed psycopg2-binary-2.9.9\n"
     ]
    },
    {
     "name": "stderr",
     "output_type": "stream",
     "text": [
      "\n",
      "[notice] A new release of pip available: 22.2.2 -> 25.0.1\n",
      "[notice] To update, run: python.exe -m pip install --upgrade pip\n"
     ]
    }
   ],
   "source": [
    "!pip install psycopg2-binary==2.9.9 --only-binary=:all:\n"
   ]
  },
  {
   "cell_type": "code",
   "execution_count": 7,
   "id": "e2242332",
   "metadata": {},
   "outputs": [],
   "source": [
    "import psycopg2"
   ]
  },
  {
   "cell_type": "code",
   "execution_count": 9,
   "id": "04adfe07",
   "metadata": {},
   "outputs": [
    {
     "name": "stdout",
     "output_type": "stream",
     "text": [
      "Database Creatd successfully\n"
     ]
    }
   ],
   "source": [
    "# create Database by using scripts\n",
    "\n",
    "conn = psycopg2.connect(\n",
    "    dbname=\"postgres\",\n",
    "    user='postgres',\n",
    "    password='admin',\n",
    "    host='localhost',\n",
    "    port=5432\n",
    ")\n",
    "conn.autocommit = True\n",
    "cursor = conn.cursor()\n",
    "\n",
    "with open('E:\\LocalProjects\\GitRepos\\End2EndDataEngineeringPipeline\\StockMarketAnalysis\\config\\postgres\\createDb.sql', 'r') as f:\n",
    "    cursor.execute(f.read())\n",
    "cursor.close()\n",
    "conn.close()\n",
    "print(\"Database Creatd successfully\")"
   ]
  },
  {
   "cell_type": "code",
   "execution_count": null,
   "id": "66aa747a",
   "metadata": {},
   "outputs": [],
   "source": [
    "# cerate tables required for project"
   ]
  }
 ],
 "metadata": {
  "kernelspec": {
   "display_name": "Python 3",
   "language": "python",
   "name": "python3"
  },
  "language_info": {
   "codemirror_mode": {
    "name": "ipython",
    "version": 3
   },
   "file_extension": ".py",
   "mimetype": "text/x-python",
   "name": "python",
   "nbconvert_exporter": "python",
   "pygments_lexer": "ipython3",
   "version": "3.8.8"
  }
 },
 "nbformat": 4,
 "nbformat_minor": 5
}
